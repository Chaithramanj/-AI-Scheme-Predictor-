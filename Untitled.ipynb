{
 "cells": [
  {
   "cell_type": "code",
   "execution_count": 35,
   "id": "586d58f1-04b9-4e93-83a1-bb7b869b0aa3",
   "metadata": {},
   "outputs": [
    {
     "name": "stdout",
     "output_type": "stream",
     "text": [
      "   Code         Description OrgCode  Parent  Stage  MonitoringCode\n",
      "0     1  Telecommunications   DOTEL     NaN      1             506\n",
      "1     2      Mobile Related   Intel     1.0      2             506\n",
      "2     3     Pension Related   cloud     1.0      2             102\n",
      "3     4   Broadband Related    star     1.0      2             506\n",
      "4     5    Landline Related    moon     1.0      2             506\n",
      "Index(['Code', 'Description', 'OrgCode', 'Parent', 'Stage', 'MonitoringCode'], dtype='object')\n"
     ]
    }
   ],
   "source": [
    "import pandas as pd\n",
    "\n",
    "df = pd.read_csv('Media.csv', encoding='utf-8')\n",
    "print(df.head())\n",
    "print(df.columns)\n"
   ]
  },
  {
   "cell_type": "code",
   "execution_count": 25,
   "id": "f82bbac1-acac-4515-a13d-963d575352ef",
   "metadata": {},
   "outputs": [
    {
     "name": "stdout",
     "output_type": "stream",
     "text": [
      "Index(['Code', 'Description', 'OrgCode', 'Parent', 'Stage', 'MonitoringCode'], dtype='object')\n"
     ]
    }
   ],
   "source": [
    "print(df.columns)\n"
   ]
  },
  {
   "cell_type": "code",
   "execution_count": 26,
   "id": "8b38108e-308f-4c95-beee-5a327e8b99e8",
   "metadata": {},
   "outputs": [
    {
     "name": "stdout",
     "output_type": "stream",
     "text": [
      "['Code', 'Description', 'OrgCode', 'Parent', 'Stage', 'MonitoringCode']\n"
     ]
    }
   ],
   "source": [
    "print(df.columns.tolist())\n"
   ]
  },
  {
   "cell_type": "code",
   "execution_count": 27,
   "id": "4e5406ee-5161-4432-b657-deda7a23e833",
   "metadata": {},
   "outputs": [
    {
     "name": "stdout",
     "output_type": "stream",
     "text": [
      "First 5 rows of the dataset:\n",
      "    Code         Description OrgCode  Parent  Stage  MonitoringCode\n",
      "0     1  Telecommunications   DOTEL     NaN      1             506\n",
      "1     2      Mobile Related   Intel     1.0      2             506\n",
      "2     3     Pension Related   cloud     1.0      2             102\n",
      "3     4   Broadband Related    star     1.0      2             506\n",
      "4     5    Landline Related    moon     1.0      2             506\n",
      "Model Accuracy: 90.00%\n",
      "Predicted Scheme Name: 3\n"
     ]
    }
   ],
   "source": [
    "import pandas as pd\n",
    "from sklearn.model_selection import train_test_split\n",
    "from sklearn.linear_model import LogisticRegression\n",
    "from sklearn.pipeline import make_pipeline\n",
    "from sklearn.feature_extraction.text import TfidfVectorizer\n",
    "\n",
    "# Load the dataset\n",
    "df = pd.read_csv('Media.csv', encoding='ISO-8859-1')\n",
    "\n",
    "# Check the first few rows to ensure data loaded properly\n",
    "print(\"First 5 rows of the dataset:\\n\", df.head())\n",
    "\n",
    "# Drop rows with missing 'Description' or 'Scheme Name' (if applicable)\n",
    "df = df.dropna(subset=['Description', 'Stage'])  # Replace 'Stage' with your target column if needed\n",
    "\n",
    "# Feature and target variables\n",
    "X = df['Description']  # Features (text)\n",
    "y = df['Stage']  # Target column (you can replace 'Stage' with your scheme name if available)\n",
    "\n",
    "# Split data into training and testing sets\n",
    "X_train, X_test, y_train, y_test = train_test_split(X, y, test_size=0.2, random_state=42)\n",
    "\n",
    "# Create a pipeline with TF-IDF vectorizer and Logistic Regression model\n",
    "pipeline = make_pipeline(TfidfVectorizer(), LogisticRegression())\n",
    "\n",
    "# Train the model\n",
    "pipeline.fit(X_train, y_train)\n",
    "\n",
    "# Evaluate the model\n",
    "accuracy = pipeline.score(X_test, y_test)\n",
    "print(f\"Model Accuracy: {accuracy * 100:.2f}%\")\n",
    "\n",
    "# Predict for a new description\n",
    "description_to_predict = \"Your example description here\"\n",
    "predicted_stage = pipeline.predict([description_to_predict])[0]\n",
    "print(f\"Predicted Scheme Name: {predicted_stage}\")\n"
   ]
  },
  {
   "cell_type": "code",
   "execution_count": 28,
   "id": "ca311729-df9c-481a-840b-c9a6a0b26fa8",
   "metadata": {},
   "outputs": [
    {
     "name": "stdout",
     "output_type": "stream",
     "text": [
      "Model accuracy: 80.00%\n"
     ]
    }
   ],
   "source": [
    "from sklearn.model_selection import train_test_split\n",
    "from sklearn.linear_model import LogisticRegression\n",
    "from sklearn.metrics import accuracy_score\n",
    "\n",
    "# Split the data into training and testing sets\n",
    "X_train, X_test, y_train, y_test = train_test_split(X, y, test_size=0.3, random_state=42)\n",
    "\n",
    "# Convert text data to numerical features using CountVectorizer (you can also use TfidfVectorizer)\n",
    "from sklearn.feature_extraction.text import CountVectorizer\n",
    "\n",
    "vectorizer = CountVectorizer(stop_words='english')\n",
    "X_train_vec = vectorizer.fit_transform(X_train)\n",
    "X_test_vec = vectorizer.transform(X_test)\n",
    "\n",
    "# Train a Logistic Regression model\n",
    "model = LogisticRegression(max_iter=200)\n",
    "model.fit(X_train_vec, y_train)\n",
    "\n",
    "# Make predictions\n",
    "y_pred = model.predict(X_test_vec)\n",
    "\n",
    "# Evaluate the model's performance\n",
    "accuracy = accuracy_score(y_test, y_pred)\n",
    "print(f\"Model accuracy: {accuracy * 100:.2f}%\")\n"
   ]
  },
  {
   "cell_type": "code",
   "execution_count": 29,
   "id": "bcd17131-816a-4c18-a666-63ae49916e85",
   "metadata": {},
   "outputs": [
    {
     "data": {
      "text/plain": [
       "['vectorizer.pkl']"
      ]
     },
     "execution_count": 29,
     "metadata": {},
     "output_type": "execute_result"
    }
   ],
   "source": [
    "import joblib\n",
    "\n",
    "# Save the trained model and vectorizer\n",
    "joblib.dump(model, 'scheme_predictor_model.pkl')\n",
    "joblib.dump(vectorizer, 'vectorizer.pkl')\n"
   ]
  },
  {
   "cell_type": "code",
   "execution_count": 30,
   "id": "d8ce31ca-e75b-491d-aa5d-8e54eb78794d",
   "metadata": {},
   "outputs": [
    {
     "name": "stdout",
     "output_type": "stream",
     "text": [
      "Predicted Scheme: 3\n"
     ]
    }
   ],
   "source": [
    "import joblib\n",
    "\n",
    "# Load the model and vectorizer\n",
    "model = joblib.load('scheme_predictor_model.pkl')\n",
    "vectorizer = joblib.load('vectorizer.pkl')\n",
    "\n",
    "# Example user input (replace with actual input from frontend)\n",
    "user_input = \"some description of the category\"\n",
    "\n",
    "# Convert input to numerical features\n",
    "user_input_vec = vectorizer.transform([user_input])\n",
    "\n",
    "# Predict the scheme name\n",
    "predicted_scheme = model.predict(user_input_vec)\n",
    "print(f\"Predicted Scheme: {predicted_scheme[0]}\")\n"
   ]
  },
  {
   "cell_type": "code",
   "execution_count": 33,
   "id": "1352a3db-65e6-4c9a-ac0b-9f6fabaef365",
   "metadata": {},
   "outputs": [
    {
     "name": "stdout",
     "output_type": "stream",
     "text": [
      "scheme\n",
      "silver     2\n",
      "Intel      1\n",
      "DOTEL      1\n",
      "star       1\n",
      "moon       1\n",
      "very       1\n",
      "cloud      1\n",
      "better     1\n",
      "good       1\n",
      "prety      1\n",
      "colour     1\n",
      "night      1\n",
      "day        1\n",
      "atum       1\n",
      "best       1\n",
      "summer     1\n",
      "winter     1\n",
      "cold       1\n",
      "spring     1\n",
      "take       1\n",
      "give       1\n",
      "all        1\n",
      "warm       1\n",
      "win        1\n",
      "own        1\n",
      "eat        1\n",
      "tale       1\n",
      "norm       1\n",
      "brown      1\n",
      "flag       1\n",
      "hall       1\n",
      "safforn    1\n",
      "pink       1\n",
      "white      1\n",
      "violet     1\n",
      "yellow     1\n",
      "blue       1\n",
      "green      1\n",
      "orange     1\n",
      "peace      1\n",
      "calm       1\n",
      "ocean      1\n",
      "aim        1\n",
      "copper     1\n",
      "gold       1\n",
      "fin        1\n",
      "sky        1\n",
      "Name: count, dtype: int64\n",
      "47\n"
     ]
    },
    {
     "data": {
      "text/plain": [
       "['scheme_predictor_model.pkl']"
      ]
     },
     "execution_count": 33,
     "metadata": {},
     "output_type": "execute_result"
    }
   ],
   "source": [
    "# Reload the data\n",
    "df = pd.read_csv('Media.csv')\n",
    "df = df.rename(columns={'Description': 'description', 'OrgCode': 'scheme'})\n",
    "df = df.dropna(subset=['description', 'scheme'])\n",
    "\n",
    "# Check again\n",
    "print(df['scheme'].value_counts())\n",
    "print(df['scheme'].nunique())  # Should be >= 2\n",
    "\n",
    "# Train pipeline\n",
    "model = make_pipeline(TfidfVectorizer(), LogisticRegression())\n",
    "model.fit(df['description'], df['scheme'])\n",
    "\n",
    "# Save\n",
    "import joblib\n",
    "joblib.dump(model, 'scheme_predictor_model.pkl')\n"
   ]
  },
  {
   "cell_type": "code",
   "execution_count": null,
   "id": "f5654524-e376-4983-97c9-3d9563cfd09a",
   "metadata": {},
   "outputs": [],
   "source": []
  }
 ],
 "metadata": {
  "kernelspec": {
   "display_name": "Python 3 (ipykernel)",
   "language": "python",
   "name": "python3"
  },
  "language_info": {
   "codemirror_mode": {
    "name": "ipython",
    "version": 3
   },
   "file_extension": ".py",
   "mimetype": "text/x-python",
   "name": "python",
   "nbconvert_exporter": "python",
   "pygments_lexer": "ipython3",
   "version": "3.13.3"
  }
 },
 "nbformat": 4,
 "nbformat_minor": 5
}
